{
  "nbformat": 4,
  "nbformat_minor": 0,
  "metadata": {
    "colab": {
      "name": "MSDS422_Assignment1_KapoorRaj.ipynb",
      "version": "0.3.2",
      "provenance": [],
      "collapsed_sections": [],
      "include_colab_link": true
    },
    "kernelspec": {
      "name": "python3",
      "display_name": "Python 3"
    }
  },
  "cells": [
    {
      "cell_type": "markdown",
      "metadata": {
        "id": "view-in-github",
        "colab_type": "text"
      },
      "source": [
        "<a href=\"https://colab.research.google.com/github/DataScience-RajKapoor/ds_422/blob/master/MSDS422_Assignment1_KapoorRaj.ipynb\" target=\"_parent\"><img src=\"https://colab.research.google.com/assets/colab-badge.svg\" alt=\"Open In Colab\"/></a>"
      ]
    },
    {
      "metadata": {
        "id": "FR9DiN8k53_p",
        "colab_type": "code",
        "colab": {}
      },
      "cell_type": "code",
      "source": [
        "import "
      ],
      "execution_count": 0,
      "outputs": []
    },
    {
      "metadata": {
        "id": "cQ3ixscJ98Xa",
        "colab_type": "text"
      },
      "cell_type": "markdown",
      "source": [
        "**Installed Pandas, numpy, matplotlib, seaborn  through** `pip3 install pandas numpy matplotlib seaborn`"
      ]
    },
    {
      "metadata": {
        "id": "2md67QVA-0JA",
        "colab_type": "code",
        "colab": {}
      },
      "cell_type": "code",
      "source": [
        "import pandas as pd  # data frame operations  \n",
        "import numpy as np  # arrays and math functions\n",
        "import matplotlib.pyplot as plt  # static plotting\n",
        "import seaborn as sns  # pretty plotting, including heat map"
      ],
      "execution_count": 0,
      "outputs": []
    },
    {
      "metadata": {
        "id": "I1GZjUFXCpYS",
        "colab_type": "text"
      },
      "cell_type": "markdown",
      "source": [
        "  Function to produce a heat map using seaborn"
      ]
    },
    {
      "metadata": {
        "id": "FN3FBfTOT5rD",
        "colab_type": "text"
      },
      "cell_type": "markdown",
      "source": [
        "read in comma-delimited text file , creating a pandas DataFrame object\n",
        "note that IPAddress is formatted as an actual IP address but is a hash of original ip-address"
      ]
    },
    {
      "metadata": {
        "id": "T_8LW6VkUNjP",
        "colab_type": "text"
      },
      "cell_type": "markdown",
      "source": [
        "uploaded `mspa-survey-data.csv` file to Google Drive"
      ]
    },
    {
      "metadata": {
        "id": "8uGpKlUN_Msk",
        "colab_type": "code",
        "colab": {}
      },
      "cell_type": "code",
      "source": [
        "valid_su"
      ],
      "execution_count": 0,
      "outputs": []
    },
    {
      "metadata": {
        "id": "9idC88w1TPbE",
        "colab_type": "code",
        "colab": {}
      },
      "cell_type": "code",
      "source": [
        ""
      ],
      "execution_count": 0,
      "outputs": []
    }
  ]
}